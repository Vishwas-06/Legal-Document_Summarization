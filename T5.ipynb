{
  "nbformat": 4,
  "nbformat_minor": 0,
  "metadata": {
    "colab": {
      "provenance": [],
      "gpuType": "T4"
    },
    "kernelspec": {
      "name": "python3",
      "display_name": "Python 3"
    },
    "language_info": {
      "name": "python"
    },
    "accelerator": "GPU"
  },
  "cells": [
    {
      "cell_type": "code",
      "source": [
        "!pip install sentencepiece"
      ],
      "metadata": {
        "colab": {
          "base_uri": "https://localhost:8080/"
        },
        "id": "wZGqw4O-YCfn",
        "outputId": "8f10a529-1069-4673-d614-72516f7749a0"
      },
      "execution_count": null,
      "outputs": [
        {
          "output_type": "stream",
          "name": "stdout",
          "text": [
            "Looking in indexes: https://pypi.org/simple, https://us-python.pkg.dev/colab-wheels/public/simple/\n",
            "Collecting sentencepiece\n",
            "  Downloading sentencepiece-0.1.99-cp310-cp310-manylinux_2_17_x86_64.manylinux2014_x86_64.whl (1.3 MB)\n",
            "\u001b[2K     \u001b[90m━━━━━━━━━━━━━━━━━━━━━━━━━━━━━━━━━━━━━━━━\u001b[0m \u001b[32m1.3/1.3 MB\u001b[0m \u001b[31m60.9 MB/s\u001b[0m eta \u001b[36m0:00:00\u001b[0m\n",
            "\u001b[?25hInstalling collected packages: sentencepiece\n",
            "Successfully installed sentencepiece-0.1.99\n"
          ]
        }
      ]
    },
    {
      "cell_type": "code",
      "source": [
        "!pip install transformers"
      ],
      "metadata": {
        "colab": {
          "base_uri": "https://localhost:8080/"
        },
        "id": "nZZjGFhSL6J0",
        "outputId": "91d014c7-c728-4993-f440-c947c790950f"
      },
      "execution_count": null,
      "outputs": [
        {
          "output_type": "stream",
          "name": "stdout",
          "text": [
            "Looking in indexes: https://pypi.org/simple, https://us-python.pkg.dev/colab-wheels/public/simple/\n",
            "Collecting transformers\n",
            "  Downloading transformers-4.30.1-py3-none-any.whl (7.2 MB)\n",
            "\u001b[2K     \u001b[90m━━━━━━━━━━━━━━━━━━━━━━━━━━━━━━━━━━━━━━━━\u001b[0m \u001b[32m7.2/7.2 MB\u001b[0m \u001b[31m43.3 MB/s\u001b[0m eta \u001b[36m0:00:00\u001b[0m\n",
            "\u001b[?25hRequirement already satisfied: filelock in /usr/local/lib/python3.10/dist-packages (from transformers) (3.12.0)\n",
            "Collecting huggingface-hub<1.0,>=0.14.1 (from transformers)\n",
            "  Downloading huggingface_hub-0.15.1-py3-none-any.whl (236 kB)\n",
            "\u001b[2K     \u001b[90m━━━━━━━━━━━━━━━━━━━━━━━━━━━━━━━━━━━━━━\u001b[0m \u001b[32m236.8/236.8 kB\u001b[0m \u001b[31m28.7 MB/s\u001b[0m eta \u001b[36m0:00:00\u001b[0m\n",
            "\u001b[?25hRequirement already satisfied: numpy>=1.17 in /usr/local/lib/python3.10/dist-packages (from transformers) (1.22.4)\n",
            "Requirement already satisfied: packaging>=20.0 in /usr/local/lib/python3.10/dist-packages (from transformers) (23.1)\n",
            "Requirement already satisfied: pyyaml>=5.1 in /usr/local/lib/python3.10/dist-packages (from transformers) (6.0)\n",
            "Requirement already satisfied: regex!=2019.12.17 in /usr/local/lib/python3.10/dist-packages (from transformers) (2022.10.31)\n",
            "Requirement already satisfied: requests in /usr/local/lib/python3.10/dist-packages (from transformers) (2.27.1)\n",
            "Collecting tokenizers!=0.11.3,<0.14,>=0.11.1 (from transformers)\n",
            "  Downloading tokenizers-0.13.3-cp310-cp310-manylinux_2_17_x86_64.manylinux2014_x86_64.whl (7.8 MB)\n",
            "\u001b[2K     \u001b[90m━━━━━━━━━━━━━━━━━━━━━━━━━━━━━━━━━━━━━━━━\u001b[0m \u001b[32m7.8/7.8 MB\u001b[0m \u001b[31m124.1 MB/s\u001b[0m eta \u001b[36m0:00:00\u001b[0m\n",
            "\u001b[?25hCollecting safetensors>=0.3.1 (from transformers)\n",
            "  Downloading safetensors-0.3.1-cp310-cp310-manylinux_2_17_x86_64.manylinux2014_x86_64.whl (1.3 MB)\n",
            "\u001b[2K     \u001b[90m━━━━━━━━━━━━━━━━━━━━━━━━━━━━━━━━━━━━━━━━\u001b[0m \u001b[32m1.3/1.3 MB\u001b[0m \u001b[31m64.4 MB/s\u001b[0m eta \u001b[36m0:00:00\u001b[0m\n",
            "\u001b[?25hRequirement already satisfied: tqdm>=4.27 in /usr/local/lib/python3.10/dist-packages (from transformers) (4.65.0)\n",
            "Requirement already satisfied: fsspec in /usr/local/lib/python3.10/dist-packages (from huggingface-hub<1.0,>=0.14.1->transformers) (2023.4.0)\n",
            "Requirement already satisfied: typing-extensions>=3.7.4.3 in /usr/local/lib/python3.10/dist-packages (from huggingface-hub<1.0,>=0.14.1->transformers) (4.5.0)\n",
            "Requirement already satisfied: urllib3<1.27,>=1.21.1 in /usr/local/lib/python3.10/dist-packages (from requests->transformers) (1.26.15)\n",
            "Requirement already satisfied: certifi>=2017.4.17 in /usr/local/lib/python3.10/dist-packages (from requests->transformers) (2022.12.7)\n",
            "Requirement already satisfied: charset-normalizer~=2.0.0 in /usr/local/lib/python3.10/dist-packages (from requests->transformers) (2.0.12)\n",
            "Requirement already satisfied: idna<4,>=2.5 in /usr/local/lib/python3.10/dist-packages (from requests->transformers) (3.4)\n",
            "Installing collected packages: tokenizers, safetensors, huggingface-hub, transformers\n",
            "Successfully installed huggingface-hub-0.15.1 safetensors-0.3.1 tokenizers-0.13.3 transformers-4.30.1\n"
          ]
        }
      ]
    },
    {
      "cell_type": "code",
      "execution_count": null,
      "metadata": {
        "colab": {
          "base_uri": "https://localhost:8080/"
        },
        "id": "HGgm4UAVBc-w",
        "outputId": "d25caf63-e2cd-4e3d-d1d8-b36f923d02a1"
      },
      "outputs": [
        {
          "output_type": "stream",
          "name": "stderr",
          "text": [
            "/usr/local/lib/python3.10/dist-packages/transformers/optimization.py:411: FutureWarning: This implementation of AdamW is deprecated and will be removed in a future version. Use the PyTorch implementation torch.optim.AdamW instead, or set `no_deprecation_warning=True` to disable this warning\n",
            "  warnings.warn(\n"
          ]
        },
        {
          "output_type": "stream",
          "name": "stdout",
          "text": [
            "Epoch 1 - Training Loss: 6.7983\n",
            "Epoch 1 - Validation Loss: 2.3671\n",
            "Target: \"The Hindu undivided family consisted of Budd Appa, his wife, two unmarried daughters, and his adopted son, Buddanna. The issue raised was whether the sole male surviving coparcener of the Hindu joint family, his widowed mother, and sisters constitute a Hindu undivided family within the meaning of the Income-tax Act, and whether the assessment of the income in the hands of the Hindu undivided family was correct. In this case, the property that yielded the income originally belonged to a Hindu undivided family. Upon the death of Budd Appa, the family, which included a widow and females born in the family, was represented by Buddanna alone. However, the property still continued to belong to that undivided family, and the income received from it was taxable as the income of the Hindu undivided family.\"\n",
            "Prediction: Buddappa was assessed in respect of the income of the previous year. Buddappa died on July 9, 1952. he was a manager of the Hindu undivided family. he was assessed in the status of a manager of the Hindu undivided family.\n",
            "=====\n",
            "Target: \"The petitioner in this Criminal Original Petition seeks to quash the charge sheet filed against them in Special C.C.No.59 of 2011. The petitioner, who worked as a Panchayat Assistant, alleges that false complaints were made against them to the Vigilance Authorities by individuals with whom they had conflicts. The petitioner argues that the District Collector exceeded their authority by suspending and removing them from service without proper inquiry and without the necessary sanction. The respondent counters that the petitioner demanded and accepted gratification, but the petitioner claims they were not a public servant at the time the court took cognizance of the offense. The court concludes that since the petitioner ceased to be a public servant when the offense was recognized, no sanction was required, and therefore dismisses the petition.\"\n",
            "Prediction: averred in the petition is filed seeking to quash the charge sheet in Special C.C. No.59 of 2011 pending on the file of the Special Judge, Special Court for Cases under Prevention of Corruption Act, Coimbatore. the petitioner was working as Panchayat Assistant at Chenniampalayam Panchayat Union, Sulur Block from the year 1993. the petitioner was initially suspended and removed from service on 10.02.2008 by the District Collector, Coimbatore\n",
            "=====\n",
            "Target: \"The appellant in this case was charged with an offense under Section 138 of the Negotiable Instruments Act, 1881. The appellant issued a check that was dishonored due to insufficient funds, and despite receiving a legal notice, she did not repay the amount. The defense raised by the appellant was that the check was not issued to discharge a debt but as payment for purchasing a property. The trial judge found the defense to be probable and acquitted the appellant, but the High Court reversed the decision, stating that the burden of proof was not discharged. The Supreme Court considered the nature of the presumption under Section 139 of the Act and held that the appellant had raised a probable defense, which was supported by the evidence. The court emphasized that the burden of proof on the accused is not as high as that of the prosecution. It was concluded that the appellant had successfully rebutted the presumption, and the complainant failed to prove the existence of the debt beyond reasonable doubt. Therefore, the Supreme Court overturned the High Court's decision and acquitted the appellant.\"\n",
            "Prediction: , a deed for Sale was allegedly executed in favour of the respondent. she had withdrawn a sum of Rs. 4 lakhs from bank. a legal notice was sent to her, but despite the receipt thereof, she had not repaid the said amount. a cheque issued by her on 05.09.1997 for a sum of Rs. 1 lakh was dishonoured.\n",
            "=====\n",
            "Target: \"The appellant here is the Hutti Gold Mines Company, Ltd. The appeal is presented under Section 3 of the Workmen's Compensation Act. The complaint made here is that the assessment of the compensation payable to one of its employees, who is the respondent in this case, is excessive. The respondent, in this case, is the employee. There was an agreement between the employee and the company that the employee should receive a certain amount. An application stating that the forwarded agreement for registration was obtained by undue influence was presented on behalf of the employee by the general secretary of Hutti Gold Mines. The issue is whether the agreement on which the company depended could have been registered by the commissioner under Section 28 of the Act. The commissioner had the discretion to register it or not. The next question is whether there was total disablement, as claimed by the company. The fact that the company discharged the employee on 10 October 1957, is the clearest proof of the fact that there was total disablement in this case. Thus, the appeal was dismissed.\"\n",
            "Prediction: ,,, that there was total disablement to the extent of 35 per cent, and that the payment of compensation should be directed on that basis. 5. On 26 July, 1958, an application was presented on behalf of the employee by the general secretary of the Hutti Gold Mines Labour Union, Hutti. On 26 July, 1958, an application was presented on behalf of the employee by the general secretary of the Hutti Gold Mines Labour Union, Hutti.\n",
            "=====\n",
            "Target:  \"Appellate Decree Nos. 1841-1847 of 1945 arising out of the Decrees dated the 16th day of September 1944 of Munsiff 3rd Court, Burdwan. It was alleged in the plaints that the suit lands were comprised in Mouza Nala forming part of the permanently settled estate of Burdwan and were Mal lands assessed to revenue; that more than 200 years earlier there had been a permanent Mokarrari grant of those lands by the Maharaja of Burdwan to the Rajgunj Asthal; that in the record of rights published during the settlement in 1931 they were erroneously described as rent-free, and that on the strength of that entry the defendants were refusing to surrender possession of the lands to the plaintiff.The defendants appealed against this decision, and the plaintiff appealed to the High Court, which dismissed the appeals, but granted a certificate under article 133(1) (c) as it raised an important issue of lost grant. The respondents argued that a strong presumption should be made in favour of the correctness of the entry, because it was made in the ordinary course of business.In the result, the appeals are allowed, the decrees ,of the District Court and of the High Court are set aside, and those of the District Munsif restored with costs in this Court and in the two Courts below. The decrees of the District Munsif will stand as regards costs in that Court. Appeals allowed.\"\n",
            "Prediction: a court judge ruled that the lands were not Mal lands comprised within Mouza Nala. the defendants contested the suits, and pleaded that the lands were not Mal lands comprised within Mouza Nala. the defendants contested the suits, and prayed that a decree might be passed for ejectment of the defendants.\n",
            "=====\n",
            "Target:  \"It is an appeal by special leave from a judgment of the High Court of Judicature at Calcutta answering a reference by the Income-tax Appellate Tribunal under s. 66 (2) of the Indian Income-tax Act, 1922, which was issued on the 26th day of March, 1946, for the assessment of a firm consisting of two brothers as partners dealing mainly in silver and kept its books of account on the mercantile basis. On the finding of the Income-tax authorities that the 582 bars of silver lying at Bikaner had not been really sold but remained part of the unsold stock of the firm's business at the end of the accounting year, the whole of the profits of that year must be taken to have accrued or arisen at Calcutta. The appeal is accordingly dismissed with costs.\"\n",
            "Prediction: a judgment of the High Court of Judicature at Calcutta arising out of the Order dated the 14th March, 1952. it was alleged that the said silver bars had been sold to the partners for their domestic use. the income-tax authorities held that the alleged sale was not \"genuine\" and that the said silver bars still formed part of the stock-in-trade of the firm.\n",
            "=====\n",
            "Target:  \"The Madras High Court in Writ Appeal No. 65 of 1955 arising out of the order dated the 5th day of May, 1955 of the Madras High Court in Writ Petition No. 158 of 1955 for the State Government to interfere with the orders of subordinate Transport Authorities on the ground of propriety and the limits of judicial review which the courts have under art. 226 of the Constitution of India. The appellant and respondent No. 2 had applied for stage carriage permits in the Mayuram Town Service for routes Nos. 1 and 2 at Kumbakonam. The State Government in setting aside the orders of the Regional Transport Authority and the Board passed the following order. No substantial ground was put forward for supposing that section 64-A was an illegal provision in keeping with the entire scheme of the Act concerning transport vehicles and control of road transport. The appeal is dismissed with costs to be paid to respondent No. 2.\"\n",
            "Prediction: dated the 31st of May 1955 of the Madras High Court in Writ Appeal No. 65 of 1955 arising out of the order dated the 5th day of May 1955. the appellant and respondent No. 2 had applied for stage- carriage permits in the Mayuram Town Service for routes No. 1 and 2. both the appellant and respondent No. 2 being dissatisfied appealed under section 64-A of the Motor Vehicles Act, 1939. the Regional Transport\n",
            "=====\n",
            "Target:  \"A Thakurdwara of Sri Radhakrishnaji in the village of Bhadesia in the District of Sitapur is a private temple or a public one in which all the Hindus are entitled to worship. The testator had two wives one of whom had predeceased him and the surviving widow succeeded him as Mutawalli in terms of the will and was in management till 1928 when he died without any issue. On March 6, 1919, he had executed a will whereby he bequeathed all his lands to the temple and made provision for its proper management. The appeal is allowed, the decrees of the courts below are set aside, and a declaration granted in terms of para 17 (a) of the plaint. We are of opinion that the Thakurdwara of Sri Radhakrishnaji in Bhadesia is a public temple. The view of the lower court that the temple must be taken to have been dedicated to members of the family goes beyond the pleading, and is not supported by the evidence in the case. Some of the idols are permanently installed on a pedestal within the temple precincts, consistent with their endowment being public rather than private.\n",
            "\"\n",
            "Prediction: arising out of the decree dated July 14, 1948 of the Chief Court of Audh, Lucknow in Second Appeal No. 365 of 1945. arising out of the decree dated May 30, 1945 of the Court of District Judge, Sitapur in Second Appeal No. 365 of 1945. the point for decision in this appeal is whether a Thakurdwara of Sri Radhakrishnaji in the district of Sitapur is a private temple or public one in which all the Hindus\n",
            "=====\n",
            "Target:  \"\n",
            "The appellants claim to be legatees under a registered will of their mother's father Lala Guranditta Mal executed on September 6, 1944. One of the items bequeathed to them was the rights in a mortgage executed by the defendants in favour of the testa- tiver for Rs. 6,000. On October 25, 1944, they brought a suit in the court of the Senior Subordinate Judge, Gurdaspur for the recovery of Rs. 5,392-2-0 on the basis of the mortgagee and denied that the plaintiffs were heirs and representatives of the mortgagee and therefore had no locus standi to sue. The appellants did not obtain probate till after the appeal was filed in this court and made application for admission of additional evidence at such a late stage, they will pay Rs. 500 as costs of this court to the respond-ents within two months. In default of such payment the appeal shall stand dismissed with costs, i.e., Rs. 5,000.\"\n",
            "Prediction: KAPUR J.-This appeal by special leave is brought from the judgment and decree of the High Court of the Punjab. the plaintiffs claim to be the legatees under a registered will of their mother's father Lala Guranditta Mal. they alleged that they were the \" representatives and heirs\" of lala Guranditta Mal. the defendants pleaded that they had no knowledge of the will alleged to have been made by Guranditta Mal.\n",
            "=====\n",
            "Target: \"The appellant in this case has appealed against the judgment and order of the learned Sessions Judge convicting him under Section 302 of the Indian Penal Code (IPC) for the murder of the deceased. The prosecution presented evidence, including witness testimonies and a judicial confession by the appellant. The appellant denied the charges and claimed that the confession was obtained under duress. The trial court relied on the testimony of witnesses to convict the appellant. However, there were no eyewitnesses to the crime. The cause of death was determined to be multiple injuries caused by a sharp cutting weapon. The appellant's counsel raised objections regarding the legality and admissibility of the confession due to the administration of oath. The court found that administering oath to the accused before recording the confession was illegal, rendering the confession inadmissible. As a result, the confession cannot be considered. The case primarily relies on circumstantial evidence, with no direct witnesses to the incident.\"\n",
            "Prediction: a judgment dated 8-7-2003 and order dated 16-7-2003 passed by learned Sessions Judge Sikkim. he sentencing the appellant to undergo imprisonment for life and to pay a fine of Rs. 500/- with a default clause of sentence. he was a writer Constable and was posted as in-charge of the said out-post. he was rushed to the out-post and had heated discussion with the deceased.\n",
            "=====\n",
            "Target:  \"The appellant was a Class III servant employed as a metal examiner, also called Chaser, in the Railway Carriage Workshops at Ajmer. He was charged under s. 161, Indian Penal Code with accepting from one Nanak Singh currency notes of the value of Rs. 150 as illegal gratification as a motive for securing a job for one Kallu. He was also charged under s. 5(1)(d) of Act II of 1947 with abusing his position as a public servant and obtaining for himself by corrupt or illegal means pecuniary advantage in the shape of Rs. 150 as illegal gratification for securing a job for one Kallu. The appeal taken to the Judicial Commissioner, State of Ajmer, by the appellant failed and he was granted a certificate of fitness for appeal. An Izaphatdar, that is a lessee, of a village who bad undertaken to keep an account of its forest revenue and pay a certain proportion to the Government, keeping the remainder for himself. The Court decided that Deshmukhs and Deshpandes would be sufficiently within the terms of clause they being appointed to perform for the State a portion of its functions or to aid those who were its active representatives.The appellant was therefore, a public servant within the meaning of section 21 of the Indian Penal Code.\"\n",
            "Prediction: BHAGWATI J.-This Appeal was delivered by BHAGWATI J.-This Appeal with a certificate of fitness under article 134(1)(c) of the Constitution. the appellant was a Class III servant employed as a metal examiner, also called Chaser, in the Railway Carriage Workshops at Ajmer. he was also charged under section 161, Indian Penal Code with abusing his position as a public servant. he was also charged under section 5(1)(d)\n",
            "=====\n",
            "Target: \"The Appellant husband was married to the wife(respondent) in 1992 and had a female child born after the marriage. The appellant filed the divorce petition on the allegation that wife had become cruel because of her highly suspicious nature and alleged extra-marital relationship and it became impossible for the Appellant to stay with the Respondent. Moreover, the Respondent wanted the Appellant to leave his parents so that the Respondent can live independently. On these grounds, the petitioner alleged that he was a victim of cruelty as the wife would threaten him of perpetrating suicide which she ones attempted. On the basis of the facts proven and evidence adduced, the family court allowed for divorce in 2001. The wife being aggrieved by the judgement reached out to High Court which set aside the decree of divorce by its order in 2006. Therefore, while deciding the above matter as per the facts and evidence came to the conclusion that the unsubstantiated allegations levelled by the Respondent wife and the threats and attempt to commit suicide by her would amount to mental cruelty and the marriage deserves to be dissolved by a decree of divorce.\"\n",
            "Prediction: the Appellant husband seeking divorce, whose decree for divorce passed by the trial Court. Appellant wife filed the divorce petition, in a nutshell, under the '1. The Appellant wife had become cruel because of her highly suspicious nature. she used to level absolutely frivolous but serious allegations against the Appellant. '1 : The Appellant wife filed Miscellaneous First Appeal under Section 28(1) of the Hindu Marriage Act, 1955 (hereinafter referred to\n",
            "=====\n",
            "Target: \"In this civil appeal, filed by Krishna Bhagya Jala Nigam Ltd. (referred to as 'Jala Nigam'), two issues are raised. The first issue is whether Clause 29 of the Contract is an arbitration clause and if the arbitral tribunal had jurisdiction to adjudicate upon the claims made by the contractor. The second issue pertains to the merits of the claims made by the contractor. The facts of the case involve an agreement between Jala Nigam and the contractor for the construction of Mulawad Lift Irrigation Scheme. Disputes arose, and the contractor invoked Clause 29, seeking arbitration. Jala Nigam contested the arbitration, leading to legal proceedings. The courts below held that Jala Nigam had consented to arbitration and cannot now challenge the validity of Clause 29. On the merits of the claims, the arbitrator examined each claim separately, and the court sees no reason to interfere except for the adjustment of interest rates and reduction of idling charges awarded to the contractor. The court allows the appeal to the extent indicated.\"\n",
            "Prediction: dated 28.1.2005, the claimant (contractor) raised disputes, said to have arisen out of the works entrusted under the contract. the claimant (contractor) raised disputes, said to have arisen out of the works entrusted under the contract. by letter dated 23.3.98 the contractor called upon the Chief Engineer to act as an arbitrator.\n",
            "=====\n",
            "Target: \"The appellant, an insurance company, is dissatisfied with the judgment and order of the High Court of Rajasthan, which upheld the award of compensation to the first respondent, Brij Mohan, by the Motor Accident Claims Tribunal. Brij Mohan, a laborer, was injured when he fell off a trolley attached to a tractor allegedly being driven rashly and negligently. The insurance company argued that only the tractor was insured and the claim was not maintainable. They also contended that Brij Mohan was a gratuitous passenger and not covered under the Motor Vehicles Act. The Court rejected these arguments but directed the insurance company to pay the awarded amount due to Brij Mohan's grievous injuries.\"\n",
            "Prediction: argued that the claim petition was a result of the accident. the claim petition was filed by the High Court of Rajasthan. the tribunal awarded a sum of Rs. 1,96,100/- by way of compensation.\n",
            "=====\n",
            "Target: \"The revision petition challenges the rejection of the application filed by the accused to examine Mr. T. L. Brahmin as a court witness in Criminal Case No. 7 of 1997. The accused claims that the prosecution dropped Mr. Brahmin as a witness without making any effort to bring his evidence to court. The accused argues that Mr. Brahmin's testimony is crucial for establishing innocence and providing local knowledge about the building in question. The defense contends that the court should have summoned and examined Mr. Brahmin as a court witness for a just decision. However, the court ruled that the prosecution has the discretion to drop witnesses, and the defense can call Mr. Brahmin as a defense witness. The court upheld the impugned order, stating that it was a reasoned finding. The petition is dismissed.\"\n",
            "Prediction: cited witness, namely Mr. T. L. Brahmin as Court witness, was rejected. learned counsel contended prosecution had withheld vital and important evidence. cited witness, namely Mr. T. L. Brahmin, was dropped as court witness. cited witness was prayed for dropping the said witness. cited witness was cited in the charge-sheet before examination of the Investigating Officer. cited witness was cited in the case of the accused-petitioner.\n",
            "=====\n",
            "Target:  \"The Income-tax Officer assessed its income for 1945-1946 at Rs. 71,186 and on 17-9-1947 a notice of demand was served on it for Rs. 29,857-6-0 on account of income-tax and super-tax. The appellant preferred an appeal against this assessment, and it was actually received in the office of the Appellate Assistant Commissioner on 5- 11-1947, and it was then out of time by 19 days; but the appeal was registered as No. 86, and notice for hearing under s. 31 was issued for 13-12-1947, and after undergoing several adjournments, it was actually heard along with Appeal No. 86 on 1-10-1948. The learned Solicitor-General argued that section 31(3) (a) construed in its literal and ordinary sense conferred jurisdiction on the Appellate Assistant Commissioner only to pass orders on the merits of the assessment. He conceded that this contention would run counter to numerous authorities but argued that they were all wrong. The appeal relates to preliminary issues, which are open to consideration at the hearing of the appeal. This appeal will be allowed, and the order of the court below set aside.\"\n",
            "Prediction: VENKATARIAMA AYYAR J.--The appellant is a firm carrying on business at Ludhiana in the Punjab. the Income-tax Officer assessed its income for 1945-1946 at Rs. 71,186, and on 17-9-1947 a notice of demand -was served on it for Rs. 29,857-6-0 on account of income-tax and super-tax. the appellant preferred an 168 appeal against the assessment, and it was actually received in the office of the\n",
            "=====\n",
            "Target: \"The appeal in this case challenges the order of the Uttaranchal High Court, which granted compensation to the respondents amounting to Rs.8,16,000/- with interest. The claimants had filed a petition seeking compensation for the death of the deceased in a motor accident. The accident occurred when the deceased's vehicle collided with a parked truck. The Motor Accident Claims Tribunal dismissed the claim, but the High Court ruled in favor of the claimants, holding the insurer liable for compensation. The High Court determined the deceased's income at Rs.4,000/- per month and applied a multiplier of 17 to calculate the compensation. The appeal contests the high multiplier and lack of evidence regarding the deceased's actual income. The Supreme Court referred to previous cases and principles to determine the appropriate multiplier and multiplicand for calculating compensation in fatal accident cases. Considering the age of the deceased, the Supreme Court fixed the multiplier at 13 and determined the compensation to be Rs.4,68,000/-, with interest. The court also directed the deposit of the awarded amount and specified the allocation for the minor respondents. The appeal was allowed accordingly.\"\n",
            "Prediction: 'deceased' was driving his vehicle on 7.6.1999 at 9.50 p.m. he died on 9.6.1999, he was about 33 years of age. claimants i.e. respondents 1 to 4 filed claim petition claiming compensation under Section 173 of the Motor Vehicles Act, 1988. the claim petition was dismissed on the grounds that the accident took place on account of negligence of the deceased.\n",
            "=====\n",
            "Target: \"The appeal concerns a case in which the appellant was convicted under Section 302 of the Indian Penal Code (IPC) and sentenced to life imprisonment for the stabbing death of the deceased. The incident occurred after a football match and a subsequent scuffle between the appellant's brothers and members of another team. The appellant, along with an acquitted co-accused, went to the other team's village to settle the dispute but ended up in a heated argument and fight. The appellant stabbed the deceased with a knife, causing fatal injuries. The court examined eyewitness testimonies and medical evidence to establish the appellant's guilt. The appellant's counsel argued for a conviction under Section 304, Part II of the IPC, citing the absence of premeditation. The court, considering the circumstances, converted the conviction to Section 304, Part II, IPC, and sentenced the appellant to five years of rigorous imprisonment. The appeal was partially allowed.\"\n",
            "Prediction: acquitted under Section 232, Cr. P.C., the juvenile accused Dawa Tamang was assaulted by some boys. During the scuffle, the appellant stabbed the deceased with a knife and fled towards the victim. the victim was taken to STNM hospital but succumbed to his injuries.\n",
            "=====\n",
            "Target: \"The petitioners have filed a petition challenging the order passed by the Judicial Magistrate in a criminal case. The complainant alleged that the petitioners, along with others, committed offenses under various sections of the Indian Penal Code. The complainant claimed that he had placed orders and made advance payments to the petitioners' company for electronics articles, but the company failed to deliver the goods and did not reconcile the accounts. The complainant further alleged that the petitioners misappropriated a demand draft of Rs. 2,40,000 and cheated him. The Magistrate took cognizance of the offenses based on prima facie materials. The petitioners argue that the complaint lacks merit, is civil in nature, and should be quashed. The complainant contends that there is sufficient material to proceed with the case. The court is now examining the impugned order and the allegations made by both parties to determine the legality and validity of the order.\"\n",
            "Prediction: ,,,,,, filed a complaint petition against the present three petitioners and two others in the Court of the Judicial Magistrate, East Sikkim at Gangtok. \"1. The complainant, Shri B.B. Mishra, the respondent no. 1 herein, filed a complaint petition against the present three petitioners and two others in the Court of the Judicial Magistrate, East Sikkim at Gangtok. \"1. The complain\n",
            "=====\n",
            "Target: \"The petitioner, an accused facing trial in a criminal case, filed a writ petition seeking withdrawal of the case against him. The petitioner was accused of forgery, cheating, using forged documents, making false statements on oath, and criminal misappropriation. The Assistant Public Prosecutor initially filed an application for withdrawal, which was rejected by the Magistrate and later the Sessions Judge. The petitioner appealed to the High Court, which quashed the previous orders and allowed the withdrawal of the prosecution. The court considered the interest of administration of justice and noted that the loan amount had been refunded to the government, and continuing the prosecution would serve no useful purpose.\"\n",
            "Prediction: alleged to have committed the crime in the past. he is accused of committing the crime in the.............................................\n",
            "=====\n",
            "Target: \"This revision pertains to the appeal against the conviction and sentence of the petitioner under multiple sections of the Indian Penal Code (IPC). The prosecution accused the petitioner, a head peon in the Department of Art and Culture, of misappropriating stationeries by presenting false supply orders. The trial judge found the petitioner guilty based on evidence and sentenced him accordingly. The appellate judge upheld the conviction without discussing the evidence in detail. The petitioner's counsel argued that the conviction relied solely on a report by a handwriting expert who was not examined. The court found deficiencies in the judgment and remitted the case back for fresh consideration, emphasizing the need for proper examination of the expert and independent assessment of the evidence.\"\n",
            "Prediction: a judgment dated 31-12-2003 of learned Sessions Judge, Special Division-II Sikkim at Gangtok. Against the said judgment and conviction he preferred Criminal Appeal No. 4 of 2002. he preferred Criminal Appeal No. 4 of 2002 in the Court of the Sessions Judge, Special Division-II Sikkim at Gangtok. he preferred Criminal Appeal No. 4 of 2002 upholding the conviction and sentence. he preferred Criminal Appeal No. 4 of 2002 in the Court of the\n",
            "=====\n",
            "Target: \"The appellants in this case were defendants in a suit filed by the respondent for the recovery of Rs. 99,200. The respondent had sought security for the claim and attachment before judgment under Order 38 Rule 5 of the Civil Procedure Code (CPC), alleging dishonored cheques and the defendants attempting to remove their assets. The trial court dismissed the application due to the lack of specific particulars and a prima facie case. However, the High Court, swayed by the defendants' asset removal, granted relief under Order 38 Rule 5. The Supreme Court found that the High Court should not have interfered and allowed the appeal, setting aside the High Court's order.\"\n",
            "Prediction: a revision petition by the plaintiff was challenged in revision by the plaintiff. the plaintiff alleged defendants had removed their name board and were removing their machinery. the defendants prayed for a direction to defendants to furnish security for the suit claim. the defendants allegedly re-examined the fact defendants had removed their name board.\n",
            "=====\n",
            "Target:  \"The Income-tax Appellate Tribunal under s. 66(1) of the Indian Incometax Act, 1922, has made an appeal from the judgment and order of the High Court of Judicature at Madras upon a reference made by the Income-tax Appellate Tribunal under s. 66(1) of the Indian Incometax Act, 1922, which provides that the assessee is incorporated in the United Kingdom under the English Companies Act and has its registered office in London. The yarn and cotton manufactured in Pondicherry. The question whether profits may not be realised until a manufactured article was sold must be decided having regard to the general principles as to where income, profits or gains could be said to arise or accrue. Appeal allowed.\"\n",
            "Prediction: BHAGWATI J.-This is an appeal from the judgment and order of the High Court of Judicature at Madras. the assessee, the assessee, is incorporated in the United Kingdom under the English Companies Act. the total sales of the goods in the assessment year 1942-43 were Rs. 69,69,145.\n",
            "=====\n",
            "Target:  \"The appellants had decreed items 3, 4 and 6 in the list of properties attached to the plaint as Watan property. On appeal by the third defendant, the High Court reversed the decision of the trial court in respect of those three items and confirmed the decision of the trial court in respect of the rest of the plaint properties. The propositus was one Shreemant who died on the 23rd November, 1941 leaving him surviving his wife Radhabai aforesaid. The controversy has narrowed down to whether the Japti Sanadi Inam lands still retain their character as Watan lands as held by the trial court, or have lost their character. The Bombay High Court held that the lands in question had ceased to be Watan lands simply because the service attaching to them had been dispensed with. There is no precedent or statutory provision directly supporting this proposition. But it has been argued that the Sanadi Inam lands were once Watan property and that once the property is impressed with the character of inam lands, they continue to bear that character.\"\n",
            "Prediction: \"On appeal from the judgment and decree dated the 1st day of September, 1949, of the Bombay High Court in Appeal No. 23 of 1947. the court reversed the decision of the trial court only in respect of those three items. the court reversed the decision of the trial court in respect of those three items. the court reversed the decision of the trial court only in respect of those three items.\n",
            "=====\n",
            "Target: \"The appellant bank filed a Civil Appeal by way of Special Leave Petition against the order of the Punjab and Haryana High Court. The case involved the widow of a deceased bank employee who applied for compassionate appointment in the bank but was declined based on the financial condition of the family. The High Court ordered reconsideration of the case, but the bank again declined the appointment. The appellant bank argued that the High Court failed to consider the scheme framed by the bank, which allows compassionate appointment only in cases of penury and indigent circumstances. The appellant bank also highlighted the terminal benefits paid to the family and the financial security provided. The respondents argued that the family's income was below the threshold set by the bank's policy for compassionate appointment. The court considered the previous judgments on employment on compassionate grounds and concluded that appointments should be based on the financial condition of the family. In this case, the financial condition was not penurious, and the bank's decision to decline the appointment was upheld. The court emphasized the discretion of the competent authority in such matters and criticized the High Court for interfering with their findings.\"\n",
            "Prediction: ,,, a circular suggesting to all Public Sector Banks, certain amendments to the scheme on compassionate appointment should be taken into consideration. Against this decision of the authority the respondent filed Civil Misc. Writ Petition No. 3077/2002 before the Punjab and Haryana High Court. Writ Petition No. 3077/2002, a circular suggesting to all Public Sector Banks, a quashing of the case of Jaspal Kaur. Against this decision of the\n",
            "=====\n",
            "Target: \"The present writ petition involves the Manipur Human Rights Commission's request for a writ of mandamus to direct the State respondents to fulfill their duties under Section 18 of the Protection of Human Rights Act, 1993. The petition raises the question of whether the Human Rights Commission can file such a petition. The Commission was established by the State Government of Manipur and is governed by provisions similar to those of the National Human Rights Commission. The case pertains to the death of Maibam Joykumar Singh due to a lack of safety measures on an incomplete bridge. The Commission conducted an inquiry and issued a report recommending compensation and action against responsible officials. However, the government failed to take action, leading to the filing of the writ petition. The respondents argue that the petition is not maintainable as the Commission's representative is not the designated Secretary. The Writ Petition is accordingly allowed.\"\n",
            "Prediction: ,, learned senior counsel assisted by Mr. A. Bimol, learned GA for respondent nos. 1 and 2. 2. The core question involved in the present writ petition is: if the Human Rights Commission can file the present writ for issuing a writ of mandamus directing the State respondents to discharge their duties contemplated in Section 18 of the protection of human rights Act, 1993.\n",
            "=====\n",
            "Target: \"The petitioner, one of the accused in a criminal case, sought an adjournment for cross-examination of prosecution witnesses due to the sudden illness of his chosen lawyer. However, the Sessions Judge rejected the application, leading to the petitioner being unable to cross-examine the witnesses. The petitioner argued that the denial of his right to be defended by a lawyer of his choice and to cross-examine witnesses violated his constitutional rights and undermined a fair trial. The judge acknowledged the importance of legal aid and the need to provide reasonable opportunities for the accused to secure legal representation. The revisional application was allowed, and the judge ordered a recall of witnesses for cross-examination by the petitioner's lawyer.\"\n",
            "Prediction: the learned Advocate for the accused-petitioner and learned Advocate General appearing for the State. \"1 The petitioner is one of the accused persons in a Criminal case under Sections 363, 366 and 376, Indian Penal Code in the Court of the Sessions Judge at Gangtok. the petitioner is one of the accused persons in a Criminal case under Sections 363, 366 and 376, Indian Penal Code in the Court of the Sessions Judge at Gangtok.\n",
            "=====\n",
            "Target: \"The appeal revolves around the validity of a Will executed by Sankaran Nair. The properties in question were purchased by Krishnan Nair and Kochukutty, the mother and grandmother of the respondents. The appellants, who are the wife, son, and daughters of Sankaran Nair's son, challenge the Will on the grounds of suspicious circumstances. These include the presence of beneficiaries as witnesses, the attesting witness not seeing the execution, and the absence of witnesses from the locality. The trial court initially decreed in favor of the appellants, but the High Court reversed the decision. The appellants argue that the High Court erred in not considering the suspicious circumstances. The court examines the evidence, including the mental capacity of the testator and his dependence on the respondents, and concludes that the Will is valid. The onus was on the appellants to prove undue influence or coercion, which they failed to do.\"\n",
            "Prediction: :::: Krishnan Nair Kochukutty: registrar.: 1. Leave granted. 2. The question involved in this appeal is the validity of a Will dated 07.08.1971 executed by one Sankaran Nair. 3. The question involved in this appeal is the validity of a Will dated 07.08.1971 executed by one Sankaran Nair. 3. For the sake of convenience, the genealogical table may be noticed at the outset: \"1. Leave granted.\n",
            "=====\n",
            "Target: \"The case involves a contract of carriage between the parties. The appellants were asked to deliver six consignments to M/s. Universal Apparels in Kenya. The appellants requested confirmation of delivery against the presentation of original Bills of Lading. However, the consignments were delivered without the original Bills of Lading, allegedly due to negligence. A claim for a sum of US$ 84,353.31 was made. The suit filed by the respondent against the appellants and others alleged breach of trust and cheating. The appellants sought quashing of the summons, arguing that the allegations did not disclose an offense. The court held that the allegations in the complaint did not disclose an offense, as there was no specific allegation against the appellants and breach of contract alone does not constitute an offense. The court emphasized the need to prevent abuse of the criminal process and ensure the ends of justice.\"\n",
            "Prediction: ,,,, faxed to, a fax to M/s Universal Apparels, Mombassa, Kenya. Appellants asked their counterparts in Mombassa, Kenya (Walford Meadows) to confirm delivery of consignment asking it to see that the cargo is delivered only against presentation of original Bills of Lading. Appellants asked a fax to see that the cargo is delivered only against presentation of original Bills of La\n",
            "=====\n",
            "Target:  \"Appellants and the second respondent for delivery of vacant and peaceful possession of the three shops situated 'on the ground floor of the premises known as \"Irani Manzil.\" The first respondent was the owner of the said immovable property which had been requisitioned on the 15th April, 1943, by the Collector of Bombay in exercise of the powers conferred upon him by, rule 75-A(1) of the Defence of India Rules read with the Notification of the Government, Defence Coordination Department. The only test was whether the immovable property in question was on the 30th September 1946, subject to that requisition or if the order was of a limited duration or indefinite duration. The only thing that impresses us in this case is that the unfortunate first respondent has had to bear the brunt of the battle and has been worsted in this preliminary point which was found in her favour. But we think that the justice of the case requires that the appellants as well as the first respondent will bear and pay their own respective costs both here and in the Court  of appeal.\"\n",
            "Prediction: 207 BHAGWATI J.-This appeal by special leave against the Judgment and Decree dated the 8th January, 1953, of the High Court of Judicature at Bombay in Appeal No. 117 of 1952 arising out of Suit No. 235 of 1949 in the said High Court. 207 BHAGWATI J.-This appeal by special leave from a judgment of the High Court of Judicature at Bombay in Appeal No. 117 of 1952 raises\n",
            "=====\n"
          ]
        }
      ],
      "source": [
        "import pandas as pd\n",
        "import torch\n",
        "from sklearn.model_selection import train_test_split\n",
        "from transformers import T5ForConditionalGeneration, T5Tokenizer\n",
        "from torch.utils.data import DataLoader, Dataset\n",
        "from transformers import AdamW\n",
        "\n",
        "def generate_prediction(model, tokenizer, input_text):\n",
        "    input_ids = tokenizer.encode(input_text, return_tensors='pt', max_length=None, truncation=True)\n",
        "    input_ids = input_ids.to(device)\n",
        "\n",
        "    outputs = model.generate(input_ids=input_ids, max_length=200, num_beams=4, early_stopping=True)\n",
        "    predictions = tokenizer.decode(outputs[0], skip_special_tokens=True)\n",
        "\n",
        "    return predictions\n",
        "\n",
        "# Step 1: Load the Dataset\n",
        "df = pd.read_excel(\"/content/Golden_summary.xlsx\")\n",
        "\n",
        "# Step 2: Split the Dataset into Train, Test, and Validation Sets\n",
        "train_text, test_text, train_summary, test_summary = train_test_split(\n",
        "    df['Judgment'], df['Golden summary'], test_size=0.2, random_state=42\n",
        ")\n",
        "test_text, val_text, test_summary, val_summary = train_test_split(\n",
        "    test_text, test_summary, test_size=0.5, random_state=42\n",
        ")\n",
        "\n",
        "# Load the T5 model and tokenizer\n",
        "model_name = 't5-small'\n",
        "tokenizer = T5Tokenizer.from_pretrained(model_name)\n",
        "model = T5ForConditionalGeneration.from_pretrained(model_name)\n",
        "\n",
        "# Step 4: Tokenize the Data\n",
        "train_encodings = tokenizer(list(train_text), truncation=True, padding=True)\n",
        "train_labels = tokenizer(list(train_summary.astype(str)), truncation=True, padding=True)\n",
        "\n",
        "val_encodings = tokenizer(list(val_text), truncation=True, padding=True)\n",
        "val_labels = tokenizer(list(val_summary.astype(str)), truncation=True, padding=True)\n",
        "\n",
        "test_encodings = tokenizer(list(test_text), truncation=True, padding=True)\n",
        "test_labels = tokenizer(list(test_summary.astype(str)), truncation=True, padding=True)\n",
        "\n",
        "\n",
        "# Step 5: Create PyTorch Datasets\n",
        "class SummaryDataset(Dataset):\n",
        "    def __init__(self, encodings, labels):\n",
        "        self.encodings = encodings\n",
        "        self.labels = labels\n",
        "\n",
        "    def __getitem__(self, idx):\n",
        "        item = {key: torch.tensor(val[idx]) for key, val in self.encodings.items()}\n",
        "        item['labels'] = torch.tensor(self.labels['input_ids'][idx])\n",
        "        return item\n",
        "\n",
        "    def __len__(self):\n",
        "        return len(self.labels['input_ids'])\n",
        "\n",
        "train_dataset = SummaryDataset(train_encodings, train_labels)\n",
        "val_dataset = SummaryDataset(val_encodings, val_labels)\n",
        "test_dataset = SummaryDataset(test_encodings, test_labels)\n",
        "\n",
        "# Step 6: Fine-tune the T5 Model\n",
        "device = torch.device('cuda' if torch.cuda.is_available() else 'cpu')\n",
        "model.to(device)\n",
        "model.train()\n",
        "\n",
        "train_loader = DataLoader(train_dataset, batch_size=2, shuffle=True)\n",
        "\n",
        "optimizer = AdamW(model.parameters(), lr=1e-5)\n",
        "\n",
        "num_epochs = 1\n",
        "\n",
        "for epoch in range(num_epochs):\n",
        "    total_loss = 0\n",
        "    model.train()\n",
        "    for batch in train_loader:\n",
        "        optimizer.zero_grad()\n",
        "        input_ids = batch['input_ids'].to(device)\n",
        "        attention_mask = batch['attention_mask'].to(device)\n",
        "        labels = batch['labels'].to(device)\n",
        "\n",
        "        outputs = model(input_ids=input_ids, attention_mask=attention_mask, labels=labels)\n",
        "        loss = outputs.loss\n",
        "        total_loss += loss.item()\n",
        "\n",
        "        loss.backward()\n",
        "        optimizer.step()\n",
        "\n",
        "    avg_loss = total_loss / len(train_loader)\n",
        "    print(f\"Epoch {epoch+1} - Training Loss: {avg_loss:.4f}\")\n",
        "\n",
        "    # Step 7: Evaluation on Validation Set\n",
        "    model.eval()\n",
        "\n",
        "    val_loader = DataLoader(val_dataset, batch_size=2, shuffle=False)\n",
        "\n",
        "    total_val_loss = 0\n",
        "\n",
        "    with torch.no_grad():\n",
        "        for batch in val_loader:\n",
        "            input_ids = batch['input_ids'].to(device)\n",
        "            attention_mask = batch['attention_mask'].to(device)\n",
        "            labels = batch['labels'].to(device)\n",
        "\n",
        "            outputs = model(input_ids=input_ids, attention_mask=attention_mask, labels=labels)\n",
        "            loss = outputs.loss\n",
        "            total_val_loss += loss.item()\n",
        "\n",
        "    avg_val_loss = total_val_loss / len(val_loader)\n",
        "    print(f\"Epoch {epoch+1} - Validation Loss: {avg_val_loss:.4f}\")\n",
        "\n",
        "# Step 8: Generate Predictions on Test Set\n",
        "test_loader = DataLoader(test_dataset, batch_size=3, shuffle=False)\n",
        "\n",
        "predictions = []\n",
        "\n",
        "with torch.no_grad():\n",
        "    for batch in test_loader:\n",
        "        input_ids = batch['input_ids'].to(device)\n",
        "        attention_mask = batch['attention_mask'].to(device)\n",
        "\n",
        "        outputs = model.generate(input_ids=input_ids, attention_mask=attention_mask, max_length=200)\n",
        "        batch_preds = [tokenizer.decode(ids, skip_special_tokens=True) for ids in outputs]\n",
        "        predictions.extend(batch_preds)\n",
        "\n",
        "\n",
        "# Step 9: Evaluate Predictions\n",
        "test_summary_list = test_summary.tolist()\n",
        "\n",
        "for i in range(len(predictions)):\n",
        "    print(f\"Target: {test_summary_list[i]}\")\n",
        "    print(f\"Prediction: {predictions[i]}\")\n",
        "    print(\"=\" * 5)\n"
      ]
    },
    {
      "cell_type": "code",
      "source": [
        "import locale\n",
        "print(locale.getpreferredencoding())"
      ],
      "metadata": {
        "colab": {
          "base_uri": "https://localhost:8080/"
        },
        "id": "uXpzFRMMDlDA",
        "outputId": "c822735e-358e-477b-ceff-9b7802348267"
      },
      "execution_count": null,
      "outputs": [
        {
          "output_type": "stream",
          "name": "stdout",
          "text": [
            "ANSI_X3.4-1968\n"
          ]
        }
      ]
    },
    {
      "cell_type": "code",
      "source": [
        "import locale\n",
        "def getpreferredencoding(do_setlocale = True):\n",
        "    return \"UTF-8\"\n",
        "locale.getpreferredencoding = getpreferredencoding"
      ],
      "metadata": {
        "id": "Dp1uQEt8Dng2"
      },
      "execution_count": null,
      "outputs": []
    },
    {
      "cell_type": "code",
      "source": [
        "!pip install rouge"
      ],
      "metadata": {
        "colab": {
          "base_uri": "https://localhost:8080/"
        },
        "id": "Ci26otDDDUcr",
        "outputId": "9c77e422-f278-41c6-9f69-caa78a411152"
      },
      "execution_count": null,
      "outputs": [
        {
          "output_type": "stream",
          "name": "stdout",
          "text": [
            "Looking in indexes: https://pypi.org/simple, https://us-python.pkg.dev/colab-wheels/public/simple/\n",
            "Collecting rouge\n",
            "  Downloading rouge-1.0.1-py3-none-any.whl (13 kB)\n",
            "Requirement already satisfied: six in /usr/local/lib/python3.10/dist-packages (from rouge) (1.16.0)\n",
            "Installing collected packages: rouge\n",
            "Successfully installed rouge-1.0.1\n"
          ]
        }
      ]
    },
    {
      "cell_type": "code",
      "source": [
        "from rouge import Rouge\n",
        "\n",
        "references = []\n",
        "hypotheses = []\n",
        "\n",
        "for i in range(len(predictions)):\n",
        "    reference = test_summary_list[i]\n",
        "    hypothesis = predictions[i]\n",
        "    references.append(reference)\n",
        "    hypotheses.append(hypothesis)\n",
        "\n",
        "rouge = Rouge()\n",
        "\n",
        "scores = rouge.get_scores(hypotheses, references, avg=True)\n",
        "\n",
        "\n",
        "rouge_1_score = scores['rouge-1']\n",
        "rouge_2_score = scores['rouge-2']\n",
        "rouge_l_score = scores['rouge-l']\n",
        "\n",
        "print(f\"ROUGE-1 Score: {rouge_1_score}\")\n",
        "print(f\"ROUGE-2 Score: {rouge_2_score}\")\n",
        "print(f\"ROUGE-L Score: {rouge_l_score}\")\n"
      ],
      "metadata": {
        "colab": {
          "base_uri": "https://localhost:8080/"
        },
        "id": "QJ_kCZlCBkzr",
        "outputId": "78e618a8-92c4-430c-c80a-e9c7fb595a17"
      },
      "execution_count": null,
      "outputs": [
        {
          "output_type": "stream",
          "name": "stdout",
          "text": [
            "ROUGE-1 Score: {'r': 0.18966467582448102, 'p': 0.4686563800070827, 'f': 0.26699689907255736}\n",
            "ROUGE-2 Score: {'r': 0.08659957239559972, 'p': 0.24177804318489246, 'f': 0.1262081855152682}\n",
            "ROUGE-L Score: {'r': 0.17527760590131675, 'p': 0.43374736249530826, 'f': 0.24680345922023894}\n"
          ]
        }
      ]
    },
    {
      "cell_type": "code",
      "source": [
        "from sklearn.feature_extraction.text import TfidfVectorizer\n",
        "from sklearn.metrics.pairwise import cosine_similarity\n",
        "import numpy as np\n",
        "\n",
        "references = test_summary_list\n",
        "hypotheses = predictions\n",
        "\n",
        "tfidf_vectorizer = TfidfVectorizer()\n",
        "vectorized_references = tfidf_vectorizer.fit_transform(references)\n",
        "vectorized_hypotheses = tfidf_vectorizer.transform(hypotheses)\n",
        "\n",
        "\n",
        "cosine_similarities = cosine_similarity(vectorized_references, vectorized_hypotheses)\n",
        "\n",
        "\n",
        "average_cosine_similarity = np.mean(cosine_similarities)\n",
        "\n",
        "\n",
        "print(f\"Average Cosine Similarity: {average_cosine_similarity:.4f}\")\n"
      ],
      "metadata": {
        "colab": {
          "base_uri": "https://localhost:8080/"
        },
        "id": "L_JeiRyCBm3p",
        "outputId": "6b6d7f14-c0c1-4a71-82c7-cf4d93fc65df"
      },
      "execution_count": null,
      "outputs": [
        {
          "output_type": "stream",
          "name": "stdout",
          "text": [
            "Average Cosine Similarity: 0.2227\n"
          ]
        }
      ]
    }
  ]
}